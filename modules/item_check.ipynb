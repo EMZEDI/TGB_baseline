{
 "cells": [
  {
   "cell_type": "markdown",
   "metadata": {},
   "source": [
    "# Test the TCF module interactively"
   ]
  },
  {
   "cell_type": "code",
   "execution_count": 1,
   "metadata": {},
   "outputs": [
    {
     "name": "stdout",
     "output_type": "stream",
     "text": [
      "raw file found, skipping download\n",
      "Dataset directory is  /Users/shahrad/projs/TGB_baseline/tgb_env/lib/python3.11/site-packages/tgb/data/tgbl_review\n",
      "loading processed file\n"
     ]
    }
   ],
   "source": [
    "from temporal_collaborative import TCF\n",
    "\n",
    "temporal_collaborative_filtering = TCF(\"tgbl-review\", decay=0.5, k=10, factor=50)"
   ]
  },
  {
   "cell_type": "code",
   "execution_count": 2,
   "metadata": {},
   "outputs": [
    {
     "name": "stdout",
     "output_type": "stream",
     "text": [
      "Training the temporal collaborative filtering model for O(352637^2) edges.\n"
     ]
    },
    {
     "name": "stderr",
     "output_type": "stream",
     "text": [
      "Training:   0%|          | 0/17070 [00:00<?, ?it/s]"
     ]
    },
    {
     "name": "stderr",
     "output_type": "stream",
     "text": [
      "Training: 100%|██████████| 17070/17070 [00:11<00:00, 1459.01it/s]\n"
     ]
    }
   ],
   "source": [
    "temporal_collaborative_filtering.train()"
   ]
  },
  {
   "cell_type": "code",
   "execution_count": 3,
   "metadata": {},
   "outputs": [
    {
     "name": "stdout",
     "output_type": "stream",
     "text": [
      "Max value in bank:  3162741256.8294806\n",
      "Min value in bank:  4.440892098500626e-16\n"
     ]
    }
   ],
   "source": [
    "# output max and min of values in the bank dict\n",
    "print(\"Max value in bank: \", max(temporal_collaborative_filtering.bank.values()))\n",
    "print(\"Min value in bank: \", min(temporal_collaborative_filtering.bank.values()))\n"
   ]
  },
  {
   "cell_type": "code",
   "execution_count": 4,
   "metadata": {},
   "outputs": [
    {
     "name": "stdout",
     "output_type": "stream",
     "text": [
      "Similarity matrix:  (352637, 352637)\n"
     ]
    }
   ],
   "source": [
    "# print the similarities \n",
    "print(\"Similarity matrix: \", temporal_collaborative_filtering.similarities.shape)"
   ]
  },
  {
   "cell_type": "code",
   "execution_count": 5,
   "metadata": {},
   "outputs": [],
   "source": [
    "# temporal_collaborative_filtering._get_most_similar_to(339189, is_source=False)"
   ]
  },
  {
   "cell_type": "code",
   "execution_count": 6,
   "metadata": {},
   "outputs": [],
   "source": [
    "# a = torch.Tensor([i for i in range(10)])\n",
    "# temporal_collaborative_filtering.predict(a,a,a)\n",
    "\n",
    "# temporal_collaborative_filtering.predict(torch.Tensor([180293]), torch.Tensor([339189]), torch.Tensor([12300]))"
   ]
  },
  {
   "cell_type": "markdown",
   "metadata": {},
   "source": [
    "# Validation using the test function"
   ]
  },
  {
   "cell_type": "code",
   "execution_count": 7,
   "metadata": {},
   "outputs": [],
   "source": [
    "# temporal_collaborative_filtering._get_most_similar_to(343942)"
   ]
  },
  {
   "cell_type": "code",
   "execution_count": 8,
   "metadata": {},
   "outputs": [],
   "source": [
    "# [(k,v) for (src, k), v in temporal_collaborative_filtering.bank.items() if src == 343942]"
   ]
  },
  {
   "cell_type": "code",
   "execution_count": 9,
   "metadata": {},
   "outputs": [],
   "source": [
    "# [(k,v) for (src, k), v in temporal_collaborative_filtering.bank.items() if src == 8521]"
   ]
  },
  {
   "cell_type": "code",
   "execution_count": 10,
   "metadata": {},
   "outputs": [
    {
     "name": "stdout",
     "output_type": "stream",
     "text": [
      "Validating the temporal collaborative filtering model.\n"
     ]
    }
   ],
   "source": [
    "temporal_collaborative_filtering.val_test(split_mode=\"val\")"
   ]
  },
  {
   "cell_type": "code",
   "execution_count": null,
   "metadata": {},
   "outputs": [],
   "source": []
  }
 ],
 "metadata": {
  "kernelspec": {
   "display_name": "tgb_env",
   "language": "python",
   "name": "python3"
  },
  "language_info": {
   "codemirror_mode": {
    "name": "ipython",
    "version": 3
   },
   "file_extension": ".py",
   "mimetype": "text/x-python",
   "name": "python",
   "nbconvert_exporter": "python",
   "pygments_lexer": "ipython3",
   "version": "3.11.5"
  }
 },
 "nbformat": 4,
 "nbformat_minor": 2
}
