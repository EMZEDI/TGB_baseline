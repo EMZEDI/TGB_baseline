{
 "cells": [
  {
   "cell_type": "markdown",
   "metadata": {},
   "source": [
    "# Test the TCF module interactively"
   ]
  },
  {
   "cell_type": "code",
   "execution_count": 10,
   "metadata": {},
   "outputs": [
    {
     "name": "stdout",
     "output_type": "stream",
     "text": [
      "raw file found, skipping download\n",
      "Dataset directory is  /Users/shahrad/projs/TGB_baseline/tgb/data/tgbl_wiki\n",
      "loading processed file\n"
     ]
    }
   ],
   "source": [
    "from temporal_collaborative import TCF\n",
    "import torch\n",
    "import numpy as np\n",
    "from torch_geometric.loader import TemporalDataLoader\n",
    "from torch_geometric.data import TemporalData\n",
    "from collections import defaultdict\n",
    "from tgb.linkproppred.dataset_pyg import PyGLinkPropPredDataset\n",
    "\n",
    "temporal_collaborative_filtering = TCF(\"tgbl-wiki\", decay=0.995, k=30, factor=50)"
   ]
  },
  {
   "cell_type": "code",
   "execution_count": 11,
   "metadata": {},
   "outputs": [
    {
     "name": "stdout",
     "output_type": "stream",
     "text": [
      "Training the temporal collaborative filtering model for O(9227^2) edges.\n"
     ]
    },
    {
     "name": "stderr",
     "output_type": "stream",
     "text": [
      "Training: 100%|██████████| 552/552 [00:00<00:00, 2414.97it/s]\n"
     ]
    }
   ],
   "source": [
    "temporal_collaborative_filtering.train()"
   ]
  },
  {
   "cell_type": "code",
   "execution_count": 12,
   "metadata": {},
   "outputs": [
    {
     "name": "stdout",
     "output_type": "stream",
     "text": [
      "Max value in bank:  2.3108813079365293\n",
      "Min value in bank:  2.2316040695983044e-16\n"
     ]
    }
   ],
   "source": [
    "# output max and min of values in the bank dict\n",
    "print(\"Max value in bank: \", max(temporal_collaborative_filtering.bank.values()))\n",
    "print(\"Min value in bank: \", min(temporal_collaborative_filtering.bank.values()))\n"
   ]
  },
  {
   "cell_type": "code",
   "execution_count": null,
   "metadata": {},
   "outputs": [],
   "source": []
  },
  {
   "cell_type": "code",
   "execution_count": 13,
   "metadata": {},
   "outputs": [],
   "source": [
    "# temporal_collaborative_filtering._get_most_similar_to(339189, is_source=False)"
   ]
  },
  {
   "cell_type": "code",
   "execution_count": 14,
   "metadata": {},
   "outputs": [],
   "source": [
    "# a = torch.Tensor([i for i in range(10)])\n",
    "# temporal_collaborative_filtering.predict(a,a,a)\n",
    "\n",
    "# temporal_collaborative_filtering.predict(torch.Tensor([180293]), torch.Tensor([339189]), torch.Tensor([12300]))"
   ]
  },
  {
   "cell_type": "markdown",
   "metadata": {},
   "source": [
    "# Validation using the test function"
   ]
  },
  {
   "cell_type": "code",
   "execution_count": 15,
   "metadata": {},
   "outputs": [],
   "source": [
    "# temporal_collaborative_filtering._get_most_similar_to(343942)"
   ]
  },
  {
   "cell_type": "code",
   "execution_count": 16,
   "metadata": {},
   "outputs": [],
   "source": [
    "# [(k,v) for (src, k), v in temporal_collaborative_filtering.bank.items() if src == 343942]"
   ]
  },
  {
   "cell_type": "code",
   "execution_count": 17,
   "metadata": {},
   "outputs": [],
   "source": [
    "# [(k,v) for (src, k), v in temporal_collaborative_filtering.bank.items() if src == 8521]"
   ]
  },
  {
   "cell_type": "code",
   "execution_count": 18,
   "metadata": {},
   "outputs": [
    {
     "name": "stdout",
     "output_type": "stream",
     "text": [
      "Validating the temporal collaborative filtering model.\n"
     ]
    },
    {
     "name": "stderr",
     "output_type": "stream",
     "text": [
      "200it [00:02, 73.91it/s]| 0/119 [00:00<?, ?it/s]\n",
      "200it [00:02, 71.81it/s]| 1/119 [00:02<05:20,  2.72s/it]\n",
      "200it [00:02, 72.68it/s]| 2/119 [00:05<05:23,  2.77s/it]\n",
      "200it [00:02, 71.55it/s]| 3/119 [00:08<05:20,  2.77s/it]\n",
      "200it [00:02, 75.28it/s]| 4/119 [00:11<05:20,  2.78s/it]\n",
      "200it [00:02, 71.90it/s]| 5/119 [00:13<05:12,  2.74s/it]\n",
      "200it [00:02, 71.97it/s]| 6/119 [00:16<05:11,  2.76s/it]\n",
      "200it [00:02, 70.64it/s]| 7/119 [00:19<05:10,  2.77s/it]\n",
      "200it [00:02, 72.95it/s]| 8/119 [00:22<05:10,  2.79s/it]\n",
      "200it [00:02, 72.89it/s]| 9/119 [00:24<05:06,  2.78s/it]\n",
      "200it [00:02, 70.20it/s]| 10/119 [00:27<05:02,  2.78s/it]\n",
      "200it [00:02, 70.62it/s]| 11/119 [00:30<05:02,  2.80s/it]\n",
      "200it [00:02, 68.75it/s]| 12/119 [00:33<05:01,  2.82s/it]\n",
      "200it [00:02, 70.57it/s]| 13/119 [00:36<05:01,  2.85s/it]\n",
      "200it [00:02, 72.28it/s]| 14/119 [00:39<04:59,  2.85s/it]\n",
      "200it [00:02, 66.79it/s]| 15/119 [00:41<04:54,  2.83s/it]\n",
      "200it [00:03, 65.86it/s]| 16/119 [00:44<04:56,  2.88s/it]\n",
      "200it [00:02, 70.09it/s]| 17/119 [00:48<04:59,  2.93s/it]\n",
      "200it [00:02, 68.17it/s]| 18/119 [00:50<04:54,  2.91s/it]\n",
      "200it [00:02, 68.32it/s]| 19/119 [00:53<04:52,  2.92s/it]\n",
      "200it [00:03, 61.39it/s]| 20/119 [00:56<04:49,  2.93s/it]\n",
      "200it [00:05, 36.05it/s]| 21/119 [01:00<04:57,  3.03s/it]\n",
      "200it [00:03, 61.13it/s]| 22/119 [01:05<06:07,  3.79s/it]\n",
      "200it [00:03, 65.33it/s]| 23/119 [01:08<05:49,  3.64s/it]\n",
      "200it [00:02, 68.70it/s]| 24/119 [01:11<05:29,  3.47s/it]\n",
      "200it [00:02, 69.01it/s]| 25/119 [01:14<05:10,  3.31s/it]\n",
      "200it [00:03, 66.32it/s]| 26/119 [01:17<04:56,  3.19s/it]\n",
      "200it [00:02, 72.31it/s]| 27/119 [01:20<04:48,  3.14s/it]\n",
      "200it [00:02, 71.97it/s]| 28/119 [01:23<04:36,  3.03s/it]\n",
      "200it [00:02, 70.43it/s]| 29/119 [01:26<04:26,  2.96s/it]\n",
      "200it [00:02, 70.90it/s]| 30/119 [01:29<04:20,  2.93s/it]\n",
      "200it [00:02, 69.46it/s]| 31/119 [01:32<04:15,  2.90s/it]\n",
      "200it [00:02, 70.75it/s]| 32/119 [01:35<04:12,  2.90s/it]\n",
      "200it [00:02, 71.14it/s]| 33/119 [01:37<04:07,  2.88s/it]\n",
      "200it [00:02, 68.20it/s]| 34/119 [01:40<04:03,  2.86s/it]\n",
      "200it [00:02, 73.06it/s]| 35/119 [01:43<04:02,  2.89s/it]\n",
      "200it [00:02, 71.51it/s]| 36/119 [01:46<03:56,  2.85s/it]\n",
      "200it [00:02, 72.20it/s]| 37/119 [01:49<03:52,  2.84s/it]\n",
      "200it [00:02, 72.36it/s]| 38/119 [01:51<03:48,  2.82s/it]\n",
      "200it [00:02, 68.83it/s]| 39/119 [01:54<03:44,  2.81s/it]\n",
      "200it [00:02, 68.88it/s]| 40/119 [01:57<03:44,  2.84s/it]\n",
      "200it [00:02, 68.32it/s]| 41/119 [02:00<03:43,  2.86s/it]\n",
      "200it [00:02, 72.00it/s]| 42/119 [02:03<03:42,  2.89s/it]\n",
      "200it [00:02, 69.46it/s]| 43/119 [02:06<03:37,  2.86s/it]\n",
      "200it [00:04, 48.88it/s]| 44/119 [02:09<03:35,  2.87s/it]\n",
      "200it [00:03, 64.91it/s]| 45/119 [02:13<03:59,  3.24s/it]\n",
      "200it [00:02, 68.39it/s]| 46/119 [02:16<03:53,  3.20s/it]\n",
      "200it [00:02, 70.77it/s]| 47/119 [02:19<03:44,  3.12s/it]\n",
      "200it [00:02, 70.83it/s]| 48/119 [02:22<03:35,  3.04s/it]\n",
      "200it [00:02, 69.89it/s]| 49/119 [02:25<03:28,  2.98s/it]\n",
      "200it [00:02, 70.02it/s]| 50/119 [02:27<03:23,  2.95s/it]\n",
      "200it [00:02, 67.06it/s]| 51/119 [02:30<03:18,  2.92s/it]\n",
      "200it [00:06, 32.80it/s]| 52/119 [02:33<03:17,  2.95s/it]\n",
      "200it [00:03, 57.35it/s]| 53/119 [02:39<04:17,  3.90s/it]\n",
      "200it [00:03, 64.58it/s]| 54/119 [02:43<04:05,  3.78s/it]\n",
      "200it [00:02, 70.77it/s]| 55/119 [02:46<03:48,  3.58s/it]\n",
      "200it [00:02, 69.99it/s]| 56/119 [02:49<03:31,  3.36s/it]\n",
      "200it [00:02, 67.15it/s]| 57/119 [02:52<03:19,  3.21s/it]\n",
      "200it [00:02, 73.00it/s]| 58/119 [02:55<03:11,  3.15s/it]\n",
      "200it [00:02, 71.14it/s]| 59/119 [02:57<03:01,  3.03s/it]\n",
      "200it [00:02, 69.58it/s]| 60/119 [03:00<02:55,  2.97s/it]\n",
      "200it [00:03, 63.12it/s]| 61/119 [03:03<02:50,  2.94s/it]\n",
      "200it [00:02, 67.37it/s]| 62/119 [03:06<02:51,  3.02s/it]\n",
      "200it [00:02, 67.23it/s]| 63/119 [03:09<02:48,  3.01s/it]\n",
      "200it [00:02, 68.67it/s]| 64/119 [03:12<02:45,  3.00s/it]\n",
      "200it [00:02, 67.31it/s]| 65/119 [03:15<02:40,  2.98s/it]\n",
      "200it [00:03, 65.44it/s]| 66/119 [03:18<02:38,  2.98s/it]\n",
      "200it [00:03, 64.78it/s]| 67/119 [03:21<02:36,  3.01s/it]\n",
      "200it [00:02, 68.71it/s]| 68/119 [03:24<02:34,  3.04s/it]\n",
      "200it [00:03, 66.38it/s]| 69/119 [03:27<02:30,  3.00s/it]\n",
      "200it [00:03, 63.94it/s]| 70/119 [03:30<02:27,  3.01s/it]\n",
      "200it [00:02, 68.17it/s]| 71/119 [03:34<02:26,  3.05s/it]\n",
      "200it [00:03, 63.56it/s]| 72/119 [03:36<02:21,  3.02s/it]\n",
      "200it [00:03, 64.89it/s]| 73/119 [03:40<02:20,  3.06s/it]\n",
      "200it [00:03, 66.59it/s]| 74/119 [03:43<02:18,  3.07s/it]\n",
      "200it [00:03, 61.20it/s]| 75/119 [03:46<02:14,  3.06s/it]\n",
      "200it [00:03, 63.77it/s]| 76/119 [03:49<02:14,  3.12s/it]\n",
      "200it [00:03, 62.50it/s]| 77/119 [03:52<02:11,  3.13s/it]\n",
      "200it [00:02, 68.28it/s]| 78/119 [03:55<02:09,  3.16s/it]\n",
      "200it [00:03, 56.17it/s]| 79/119 [03:58<02:03,  3.09s/it]\n",
      "200it [00:05, 37.24it/s]| 80/119 [04:02<02:06,  3.24s/it]\n",
      "200it [00:03, 63.44it/s]| 81/119 [04:07<02:27,  3.88s/it]\n",
      "200it [00:03, 61.45it/s]| 82/119 [04:10<02:15,  3.67s/it]\n",
      "200it [00:03, 64.47it/s]| 83/119 [04:14<02:07,  3.55s/it]\n",
      "200it [00:02, 68.63it/s]| 84/119 [04:17<01:59,  3.42s/it]\n",
      "200it [00:02, 68.82it/s]| 85/119 [04:20<01:51,  3.27s/it]\n",
      "200it [00:03, 64.47it/s]| 86/119 [04:23<01:44,  3.17s/it]\n",
      "200it [00:02, 69.18it/s]| 87/119 [04:26<01:40,  3.15s/it]\n",
      "200it [00:03, 65.24it/s]| 88/119 [04:29<01:35,  3.08s/it]\n",
      "200it [00:02, 68.49it/s]| 89/119 [04:32<01:32,  3.08s/it]\n",
      "200it [00:03, 62.68it/s]| 90/119 [04:35<01:28,  3.04s/it]\n",
      "200it [00:02, 69.44it/s]| 91/119 [04:38<01:26,  3.09s/it]\n",
      "200it [00:03, 62.54it/s]| 92/119 [04:41<01:21,  3.03s/it]\n",
      "200it [00:03, 63.38it/s]| 93/119 [04:44<01:20,  3.08s/it]\n",
      "200it [00:03, 64.55it/s]| 94/119 [04:47<01:17,  3.11s/it]\n",
      "200it [00:03, 61.62it/s]| 95/119 [04:50<01:14,  3.11s/it]\n",
      "200it [00:03, 62.87it/s]| 96/119 [04:54<01:12,  3.16s/it]\n",
      "200it [00:03, 64.32it/s]| 97/119 [04:57<01:09,  3.17s/it]\n",
      "200it [00:02, 66.81it/s]| 98/119 [05:00<01:06,  3.15s/it]\n",
      "200it [00:02, 68.27it/s]| 99/119 [05:03<01:02,  3.11s/it]\n",
      "200it [00:02, 69.09it/s]| 100/119 [05:06<00:58,  3.06s/it]\n",
      "200it [00:03, 64.31it/s]| 101/119 [05:09<00:54,  3.02s/it]\n",
      "200it [00:03, 61.16it/s]| 102/119 [05:12<00:51,  3.05s/it]\n",
      "200it [00:03, 64.33it/s]| 103/119 [05:15<00:49,  3.12s/it]\n",
      "200it [00:03, 59.63it/s]| 104/119 [05:18<00:46,  3.12s/it]\n",
      "200it [00:03, 57.57it/s]| 105/119 [05:22<00:44,  3.20s/it]\n",
      "200it [00:03, 60.68it/s]| 106/119 [05:25<00:42,  3.28s/it]\n",
      "200it [00:03, 61.50it/s]| 107/119 [05:28<00:39,  3.29s/it]\n",
      "200it [00:03, 54.18it/s]| 108/119 [05:32<00:36,  3.29s/it]\n",
      "200it [00:05, 36.77it/s]| 109/119 [05:35<00:34,  3.41s/it]\n",
      "200it [00:03, 61.54it/s]| 110/119 [05:41<00:36,  4.02s/it]\n",
      "200it [00:03, 60.42it/s]| 111/119 [05:44<00:30,  3.80s/it]\n",
      "200it [00:02, 66.76it/s]| 112/119 [05:47<00:25,  3.66s/it]\n",
      "200it [00:02, 68.30it/s]| 113/119 [05:51<00:20,  3.46s/it]\n",
      "200it [00:03, 63.09it/s]| 114/119 [05:53<00:16,  3.31s/it]\n",
      "200it [00:03, 64.66it/s]| 115/119 [05:57<00:13,  3.27s/it]\n",
      "200it [00:02, 68.00it/s]| 116/119 [06:00<00:09,  3.22s/it]\n",
      "200it [00:03, 63.13it/s]| 117/119 [06:03<00:06,  3.14s/it]\n",
      "21it [00:00, 58.15it/s]▉| 118/119 [06:06<00:03,  3.15s/it]\n",
      "Testing: 100%|██████████| 119/119 [06:06<00:00,  3.08s/it]"
     ]
    },
    {
     "name": "stdout",
     "output_type": "stream",
     "text": [
      "Naive MRR: 0.18779419362545013\n"
     ]
    },
    {
     "name": "stderr",
     "output_type": "stream",
     "text": [
      "\n"
     ]
    },
    {
     "data": {
      "text/plain": [
       "0.18779419362545013"
      ]
     },
     "execution_count": 18,
     "metadata": {},
     "output_type": "execute_result"
    }
   ],
   "source": [
    "temporal_collaborative_filtering.val_test(split_mode=\"val\")"
   ]
  },
  {
   "cell_type": "code",
   "execution_count": null,
   "metadata": {},
   "outputs": [],
   "source": []
  }
 ],
 "metadata": {
  "kernelspec": {
   "display_name": "tgb_env",
   "language": "python",
   "name": "python3"
  },
  "language_info": {
   "codemirror_mode": {
    "name": "ipython",
    "version": 3
   },
   "file_extension": ".py",
   "mimetype": "text/x-python",
   "name": "python",
   "nbconvert_exporter": "python",
   "pygments_lexer": "ipython3",
   "version": "3.11.5"
  }
 },
 "nbformat": 4,
 "nbformat_minor": 2
}
