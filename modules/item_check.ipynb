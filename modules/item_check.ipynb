{
 "cells": [
  {
   "cell_type": "code",
   "execution_count": 1,
   "metadata": {},
   "outputs": [],
   "source": [
    "import torch\n",
    "import numpy as np\n",
    "from torch_geometric.loader import TemporalDataLoader\n",
    "from torch_geometric.data import TemporalData\n",
    "from collections import defaultdict\n",
    "from tgb.linkproppred.dataset_pyg import PyGLinkPropPredDataset"
   ]
  },
  {
   "cell_type": "code",
   "execution_count": 5,
   "metadata": {},
   "outputs": [
    {
     "name": "stdout",
     "output_type": "stream",
     "text": [
      "Dataset tgbl-review version 2 not found.\n",
      "Please download the latest version of the dataset.\n",
      "\u001b[93mDownload started, this might take a while . . . \u001b[0m\n",
      "Dataset title: tgbl-review\n",
      "Dataset directory is  /Users/shahrad/projs/TGB_baseline/tgb/data/tgbl_review\n",
      "\u001b[92mDownload completed \u001b[0m\n",
      "Dataset directory is  /Users/shahrad/projs/TGB_baseline/tgb/data/tgbl_review\n",
      "file not processed, generating processed file\n",
      "number of lines counted 4873540\n",
      "numpy allocated\n"
     ]
    },
    {
     "name": "stderr",
     "output_type": "stream",
     "text": [
      "4873541it [00:08, 559098.90it/s]\n"
     ]
    }
   ],
   "source": [
    "def sort_tensors_by_time(\n",
    "    timestamps: torch.Tensor, src: torch.Tensor, dst: torch.Tensor\n",
    ") -> (torch.Tensor, torch.Tensor, torch.Tensor):\n",
    "    \"\"\"\n",
    "    Sorts the given tensors based on the values in train_data_t in ascending order.\n",
    "\n",
    "    Parameters:\n",
    "        timestamps: The tensor containing time data.\n",
    "        src: The tensor containing source data.\n",
    "        dst: The tensor containing destination data.\n",
    "\n",
    "    Returns:\n",
    "        tuple: Sorted timestamps, src, dst tensors.\n",
    "    \"\"\"\n",
    "    sorted_indices = torch.argsort(timestamps)\n",
    "    sorted_t = timestamps[sorted_indices]\n",
    "    sorted_src = src[sorted_indices]\n",
    "    sorted_dst = dst[sorted_indices]\n",
    "\n",
    "    return sorted_t, sorted_src, sorted_dst\n",
    "\n",
    "# load the dataset\n",
    "dataset = PyGLinkPropPredDataset(name=\"tgbl-review\", root=\"data\")\n",
    "data = dataset.get_TemporalData()"
   ]
  },
  {
   "cell_type": "code",
   "execution_count": 8,
   "metadata": {},
   "outputs": [
    {
     "name": "stdout",
     "output_type": "stream",
     "text": [
      "Number of nodes: 352637\n"
     ]
    }
   ],
   "source": [
    "\n",
    "assert dataset.eval_metric == \"mrr\"\n",
    "train_mask = dataset.train_mask\n",
    "val_mask = dataset.val_mask\n",
    "test_mask = dataset.test_mask\n",
    "train_data = data[train_mask]\n",
    "val_data = data[val_mask]\n",
    "test_data = data[test_mask]\n",
    "\n",
    "train_data.t, train_data.src, train_data.dst = sort_tensors_by_time(train_data.t, train_data.src, train_data.dst)\n",
    "val_data.t, val_data.src, val_data.dst = sort_tensors_by_time(val_data.t, val_data.src, val_data.dst)\n",
    "test_data.t, test_data.src, test_data.dst = sort_tensors_by_time(test_data.t, test_data.src, test_data.dst)\n",
    "\n",
    "# find the union of nodes in the train, val, and test sets\n",
    "nodes = set()\n",
    "nodes.update([a.item() for a in train_data.src])\n",
    "nodes.update([a.item() for a in train_data.dst])\n",
    "nodes.update([a.item() for a in val_data.src])\n",
    "nodes.update([a.item() for a in val_data.dst])\n",
    "nodes.update([a.item() for a in test_data.src])\n",
    "nodes.update([a.item() for a in test_data.dst])\n"
   ]
  },
  {
   "cell_type": "code",
   "execution_count": 10,
   "metadata": {},
   "outputs": [
    {
     "data": {
      "text/plain": [
       "352636"
      ]
     },
     "execution_count": 10,
     "metadata": {},
     "output_type": "execute_result"
    }
   ],
   "source": [
    "max(nodes)"
   ]
  },
  {
   "cell_type": "code",
   "execution_count": null,
   "metadata": {},
   "outputs": [],
   "source": [
    "from tqdm import tqdm\n",
    "train_loader = TemporalDataLoader(train_data, batch_size=200)\n",
    "val_loader = TemporalDataLoader(val_data, batch_size=200)\n",
    "test_loader = TemporalDataLoader(test_data, batch_size=200)\n",
    "\n",
    "for batch in tqdm(train_loader, desc=\"Training\"):\n",
    "    for src, dst in zip(batch.src, batch.dst):\n",
    "        # FIXME: this might not work\n",
    "        print(src.item(), dst.item())\n",
    "        assert src.item() in nodes"
   ]
  },
  {
   "cell_type": "code",
   "execution_count": 1,
   "metadata": {},
   "outputs": [],
   "source": [
    "from temporal_collaborative import TCF\n",
    "import torch\n",
    "import numpy as np\n",
    "from torch_geometric.loader import TemporalDataLoader\n",
    "from torch_geometric.data import TemporalData\n",
    "from collections import defaultdict\n",
    "from tgb.linkproppred.dataset_pyg import PyGLinkPropPredDataset"
   ]
  },
  {
   "cell_type": "code",
   "execution_count": 2,
   "metadata": {},
   "outputs": [
    {
     "name": "stdout",
     "output_type": "stream",
     "text": [
      "raw file found, skipping download\n",
      "Dataset directory is  /Users/shahrad/projs/TGB_baseline/tgb/data/tgbl_review\n",
      "loading processed file\n",
      "done here\n"
     ]
    }
   ],
   "source": [
    "temporal_collaborative_filtering = TCF(\"tgbl-review\")"
   ]
  },
  {
   "cell_type": "code",
   "execution_count": 3,
   "metadata": {},
   "outputs": [
    {
     "data": {
      "text/plain": [
       "tensor(indices=tensor([], size=(2, 0)),\n",
       "       values=tensor([], size=(0,)),\n",
       "       size=(352637, 352637), nnz=0, layout=torch.sparse_coo)"
      ]
     },
     "execution_count": 3,
     "metadata": {},
     "output_type": "execute_result"
    }
   ],
   "source": [
    "temporal_collaborative_filtering.sim_track"
   ]
  },
  {
   "cell_type": "code",
   "execution_count": 4,
   "metadata": {},
   "outputs": [
    {
     "data": {
      "text/plain": [
       "tensor(indices=tensor([], size=(1, 0)),\n",
       "       values=tensor([], size=(0,)),\n",
       "       size=(352637,), nnz=0, layout=torch.sparse_coo)"
      ]
     },
     "execution_count": 4,
     "metadata": {},
     "output_type": "execute_result"
    }
   ],
   "source": [
    "temporal_collaborative_filtering.sim_track[0]"
   ]
  },
  {
   "cell_type": "code",
   "execution_count": 5,
   "metadata": {},
   "outputs": [
    {
     "data": {
      "text/plain": [
       "tensor(indices=tensor([], size=(1, 0)),\n",
       "       values=tensor([], size=(0,)),\n",
       "       size=(352637,), nnz=0, layout=torch.sparse_coo)"
      ]
     },
     "execution_count": 5,
     "metadata": {},
     "output_type": "execute_result"
    }
   ],
   "source": [
    "temporal_collaborative_filtering.bank[0]"
   ]
  },
  {
   "cell_type": "code",
   "execution_count": 3,
   "metadata": {},
   "outputs": [
    {
     "name": "stdout",
     "output_type": "stream",
     "text": [
      "Training the temporal collaborative filtering model for O(352637^2) edges.\n"
     ]
    },
    {
     "name": "stderr",
     "output_type": "stream",
     "text": [
      "Training:   0%|          | 0/17070 [00:00<?, ?it/s]"
     ]
    },
    {
     "name": "stderr",
     "output_type": "stream",
     "text": [
      "Training:   0%|          | 0/17070 [00:00<?, ?it/s]\n"
     ]
    },
    {
     "ename": "TypeError",
     "evalue": "Cannot assign to a sparse tensor",
     "output_type": "error",
     "traceback": [
      "\u001b[0;31m---------------------------------------------------------------------------\u001b[0m",
      "\u001b[0;31mTypeError\u001b[0m                                 Traceback (most recent call last)",
      "\u001b[1;32m/Users/shahrad/projs/TGB_baseline/modules/item_check.ipynb Cell 11\u001b[0m line \u001b[0;36m1\n\u001b[0;32m----> <a href='vscode-notebook-cell:/Users/shahrad/projs/TGB_baseline/modules/item_check.ipynb#X13sZmlsZQ%3D%3D?line=0'>1</a>\u001b[0m temporal_collaborative_filtering\u001b[39m.\u001b[39;49mtrain()\n",
      "File \u001b[0;32m~/projs/TGB_baseline/modules/temporal_collaborative.py:125\u001b[0m, in \u001b[0;36mTCF.train\u001b[0;34m(self)\u001b[0m\n\u001b[1;32m    123\u001b[0m \u001b[39mfor\u001b[39;00m batch \u001b[39min\u001b[39;00m tqdm(\u001b[39mself\u001b[39m\u001b[39m.\u001b[39mTRAIN_DATA, desc\u001b[39m=\u001b[39m\u001b[39m\"\u001b[39m\u001b[39mTraining\u001b[39m\u001b[39m\"\u001b[39m):\n\u001b[1;32m    124\u001b[0m     \u001b[39mfor\u001b[39;00m src, dst \u001b[39min\u001b[39;00m \u001b[39mzip\u001b[39m(batch\u001b[39m.\u001b[39msrc, batch\u001b[39m.\u001b[39mdst):\n\u001b[0;32m--> 125\u001b[0m         \u001b[39mself\u001b[39;49m\u001b[39m.\u001b[39;49mbank[src\u001b[39m.\u001b[39;49mitem()][dst\u001b[39m.\u001b[39;49mitem()] \u001b[39m+\u001b[39m\u001b[39m=\u001b[39m \u001b[39m1\u001b[39m\n\u001b[1;32m    126\u001b[0m         \u001b[39mself\u001b[39m\u001b[39m.\u001b[39m_update_similarities()\n\u001b[1;32m    128\u001b[0m     \u001b[39m# decay the bank\u001b[39;00m\n",
      "\u001b[0;31mTypeError\u001b[0m: Cannot assign to a sparse tensor"
     ]
    }
   ],
   "source": [
    "temporal_collaborative_filtering.train()"
   ]
  },
  {
   "cell_type": "code",
   "execution_count": null,
   "metadata": {},
   "outputs": [],
   "source": []
  }
 ],
 "metadata": {
  "kernelspec": {
   "display_name": "tgb_env",
   "language": "python",
   "name": "python3"
  },
  "language_info": {
   "codemirror_mode": {
    "name": "ipython",
    "version": 3
   },
   "file_extension": ".py",
   "mimetype": "text/x-python",
   "name": "python",
   "nbconvert_exporter": "python",
   "pygments_lexer": "ipython3",
   "version": "3.11.5"
  }
 },
 "nbformat": 4,
 "nbformat_minor": 2
}
