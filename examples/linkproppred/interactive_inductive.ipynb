{
 "cells": [
  {
   "cell_type": "markdown",
   "metadata": {},
   "source": [
    "# Import dependencies"
   ]
  },
  {
   "cell_type": "code",
   "execution_count": 56,
   "metadata": {},
   "outputs": [
    {
     "name": "stdout",
     "output_type": "stream",
     "text": [
      "tensor([1.], device='mps:0')\n"
     ]
    }
   ],
   "source": [
    "import torch\n",
    "if torch.backends.mps.is_available():\n",
    "    mps_device = torch.device(\"mps\")\n",
    "    x = torch.ones(1, device=mps_device)\n",
    "    print (x)\n",
    "else:\n",
    "    print (\"MPS device not found.\")"
   ]
  },
  {
   "cell_type": "code",
   "execution_count": 68,
   "metadata": {},
   "outputs": [],
   "source": [
    "import pickle\n",
    "from typing import Dict\n",
    "\n",
    "import numpy as np\n",
    "import torch\n",
    "from torch_geometric.loader import TemporalDataLoader\n",
    "from tqdm import tqdm\n",
    "\n",
    "from tgb.linkproppred.dataset_pyg import PyGLinkPropPredDataset\n",
    "from tgb.linkproppred.evaluate import Evaluator\n",
    "\n",
    "from inductive_baseline import *"
   ]
  },
  {
   "cell_type": "markdown",
   "metadata": {},
   "source": [
    "# Load the review dataset\n",
    "\n",
    "Note: the dataset consists of a bipartite graph. Hence, the Adamic Radar index does not work properly as a heuristic method"
   ]
  },
  {
   "cell_type": "code",
   "execution_count": 70,
   "metadata": {},
   "outputs": [
    {
     "name": "stdout",
     "output_type": "stream",
     "text": [
      "Running popularity baseline for tgbl-review with decay 0.999\n",
      "raw file found, skipping download\n",
      "Dataset directory is  /Users/shahrad/projs/TGB_baseline/tgb/datasets/tgbl_review\n",
      "loading processed file\n"
     ]
    }
   ],
   "source": [
    "dataset_name = \"tgbl-review\"\n",
    "initial_decay = 0.999\n",
    "\n",
    "print(f\"Running popularity baseline for {dataset_name} with decay {initial_decay}\")\n",
    "dataset = PyGLinkPropPredDataset(name=dataset_name, root=\"datasets\")\n",
    "train_mask = dataset.train_mask\n",
    "val_mask = dataset.val_mask\n",
    "test_mask = dataset.test_mask\n",
    "\n",
    "data = dataset.get_TemporalData()\n",
    "assert dataset.eval_metric == \"mrr\"\n",
    "\n",
    "train_data = data[train_mask]\n",
    "val_data = data[val_mask]\n",
    "test_data = data[test_mask]\n",
    "\n",
    "train_data.t, train_data.src, train_data.dst = sort_tensors_by_time(train_data.t , train_data.src , train_data.dst )\n",
    "val_data.t, val_data.src, val_data.dst = sort_tensors_by_time(val_data.t , val_data.src , val_data.dst )\n",
    "test_data.t, test_data.src, test_data.dst = sort_tensors_by_time(test_data.t , test_data.src , test_data.dst )\n",
    "\n",
    "train_loader = TemporalDataLoader(train_data, batch_size=BATCH_SIZE)\n",
    "val_loader = TemporalDataLoader(val_data, batch_size=BATCH_SIZE)\n",
    "test_loader = TemporalDataLoader(test_data, batch_size=BATCH_SIZE)\n",
    "\n",
    "neg_sampler = dataset.negative_sampler\n",
    "dataset.load_val_ns()\n",
    "\n",
    "best_mrr = 0.0\n",
    "mrr_per_decay = {}\n",
    "\n",
    "evaluator = Evaluator(name=dataset_name)\n",
    "# Grid search over decay hyperparameter\n",
    "decay = initial_decay\n",
    "best_decay = decay"
   ]
  },
  {
   "cell_type": "markdown",
   "metadata": {},
   "source": [
    "## Hyper-parameter tuning for the inductive model"
   ]
  },
  {
   "cell_type": "code",
   "execution_count": 66,
   "metadata": {},
   "outputs": [
    {
     "name": "stderr",
     "output_type": "stream",
     "text": [
      "  0%|          | 0/17070 [00:00<?, ?it/s]"
     ]
    },
    {
     "name": "stderr",
     "output_type": "stream",
     "text": [
      "100%|██████████| 17070/17070 [00:15<00:00, 1099.54it/s]\n",
      "100%|██████████| 3654/3654 [00:24<00:00, 151.94it/s]\n"
     ]
    },
    {
     "name": "stdout",
     "output_type": "stream",
     "text": [
      "Naive MRR: 0.29850074648857117\n",
      "MRR: 0.29850074648857117 for decay 0.995\n"
     ]
    },
    {
     "name": "stderr",
     "output_type": "stream",
     "text": [
      "100%|██████████| 17070/17070 [00:16<00:00, 1060.41it/s]\n",
      "100%|██████████| 3654/3654 [00:24<00:00, 147.69it/s]\n"
     ]
    },
    {
     "name": "stdout",
     "output_type": "stream",
     "text": [
      "Naive MRR: 0.3029438257217407\n",
      "MRR: 0.3029438257217407 for decay 0.996\n"
     ]
    },
    {
     "name": "stderr",
     "output_type": "stream",
     "text": [
      "100%|██████████| 17070/17070 [00:15<00:00, 1083.00it/s]\n",
      "100%|██████████| 3654/3654 [00:24<00:00, 149.46it/s]\n"
     ]
    },
    {
     "name": "stdout",
     "output_type": "stream",
     "text": [
      "Naive MRR: 0.3078403174877167\n",
      "MRR: 0.3078403174877167 for decay 0.997\n"
     ]
    },
    {
     "name": "stderr",
     "output_type": "stream",
     "text": [
      "100%|██████████| 17070/17070 [00:16<00:00, 1057.70it/s]\n",
      "100%|██████████| 3654/3654 [00:24<00:00, 148.41it/s]\n"
     ]
    },
    {
     "name": "stdout",
     "output_type": "stream",
     "text": [
      "Naive MRR: 0.3131766617298126\n",
      "MRR: 0.3131766617298126 for decay 0.998\n"
     ]
    },
    {
     "name": "stderr",
     "output_type": "stream",
     "text": [
      "100%|██████████| 17070/17070 [00:15<00:00, 1072.13it/s]\n",
      "100%|██████████| 3654/3654 [00:24<00:00, 150.69it/s]\n"
     ]
    },
    {
     "name": "stdout",
     "output_type": "stream",
     "text": [
      "Naive MRR: 0.31807658076286316\n",
      "MRR: 0.31807658076286316 for decay 0.999\n"
     ]
    },
    {
     "name": "stderr",
     "output_type": "stream",
     "text": [
      "100%|██████████| 17070/17070 [00:15<00:00, 1073.84it/s]\n",
      "100%|██████████| 3654/3654 [00:23<00:00, 152.77it/s]\n"
     ]
    },
    {
     "name": "stdout",
     "output_type": "stream",
     "text": [
      "Naive MRR: 0.317225843667984\n",
      "MRR: 0.317225843667984 for decay 1.0\n",
      "Best MRR: 0.31807658076286316 for decay 0.999\n"
     ]
    }
   ],
   "source": [
    "while True:\n",
    "    if decay > 1.0:\n",
    "        break\n",
    "    popularity = train(train_loader, num_nodes=data.num_nodes, decay=initial_decay)\n",
    "    mrr = test(\n",
    "        val_loader,\n",
    "        neg_sampler,\n",
    "        split_mode=\"val\",\n",
    "        popularity=popularity,\n",
    "        decay=decay,\n",
    "        evaluator=evaluator,\n",
    "    )\n",
    "    print(f\"MRR: {mrr} for decay {decay}\")\n",
    "    mrr_per_decay[decay] = mrr\n",
    "    if mrr > best_mrr:\n",
    "        best_mrr = mrr\n",
    "        best_decay = decay\n",
    "    else:\n",
    "        break\n",
    "    if decay >= 0.99:\n",
    "        decay += 0.001\n",
    "    else:\n",
    "        decay += 0.01\n",
    "print(f\"Best MRR: {best_mrr} for decay {best_decay}\")"
   ]
  },
  {
   "cell_type": "code",
   "execution_count": 72,
   "metadata": {},
   "outputs": [
    {
     "name": "stderr",
     "output_type": "stream",
     "text": [
      "100%|██████████| 20724/20724 [00:18<00:00, 1100.40it/s]\n",
      "100%|██████████| 3645/3645 [00:24<00:00, 148.29it/s]\n"
     ]
    },
    {
     "name": "stdout",
     "output_type": "stream",
     "text": [
      "Naive MRR: 0.38915905356407166\n",
      "MRR on test set: 0.38915905356407166\n"
     ]
    }
   ],
   "source": [
    "dataset.load_test_ns()\n",
    "# Test set\n",
    "train_val_data = data[train_mask | val_mask]\n",
    "train_val_loader = TemporalDataLoader(train_val_data, batch_size=BATCH_SIZE)\n",
    "popularity = train(train_val_loader, num_nodes=data.num_nodes, decay=0.997)\n",
    "mrr = test(\n",
    "    test_loader,\n",
    "    neg_sampler,\n",
    "    split_mode=\"test\",\n",
    "    popularity=popularity,\n",
    "    decay=best_decay,\n",
    "    evaluator=evaluator,\n",
    ")\n",
    "print(f\"MRR on test set: {mrr}\")"
   ]
  },
  {
   "cell_type": "code",
   "execution_count": null,
   "metadata": {},
   "outputs": [],
   "source": []
  }
 ],
 "metadata": {
  "kernelspec": {
   "display_name": "tgb_env",
   "language": "python",
   "name": "python3"
  },
  "language_info": {
   "codemirror_mode": {
    "name": "ipython",
    "version": 3
   },
   "file_extension": ".py",
   "mimetype": "text/x-python",
   "name": "python",
   "nbconvert_exporter": "python",
   "pygments_lexer": "ipython3",
   "version": "3.11.5"
  }
 },
 "nbformat": 4,
 "nbformat_minor": 2
}
